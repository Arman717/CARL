{
 "cells": [
  {
   "cell_type": "code",
   "execution_count": null,
   "outputs": [],
   "source": [
    "import sys\n",
    "sys.path.append(\"..\")\n",
    "import importlib\n",
    "import carl.envs\n",
    "importlib.reload(carl.envs)\n",
    "from carl.envs import CARLCartPoleEnv, CARLAcrobotEnv, CARLMountainCarEnv, CARLPendulumEnv\n",
    "import numpy as np\n",
    "import matplotlib.pyplot as plt\n",
    "from tqdm import tqdm\n",
    "\n",
    "n_initial_states = 20\n",
    "n_contexts = 100\n",
    "\n",
    "contexts_acrocartpole = dict()\n",
    "for i in range(n_contexts):\n",
    "    initial_state_lower = np.random.uniform(-2, 0)\n",
    "    initial_state_upper = np.random.uniform(min(0,initial_state_lower), 2)\n",
    "    context = {\n",
    "        \"initial_state_lower\": initial_state_lower,\n",
    "        \"initial_state_upper\": initial_state_upper,\n",
    "    }\n",
    "    contexts_acrocartpole[i] = context\n",
    "\n",
    "env_specs = {\n",
    "    CARLCartPoleEnv: contexts_acrocartpole,\n",
    "    CARLAcrobotEnv: contexts_acrocartpole,\n",
    "}\n",
    "\n",
    "renders = {}\n",
    "states = {}\n",
    "for env_cls, contexts in env_specs.items():\n",
    "    env = env_cls(contexts=contexts)\n",
    "    _renders = []\n",
    "    _states = []\n",
    "    for i in tqdm(range(n_initial_states)):\n",
    "        s = env.reset()\n",
    "        _states.append(s)\n",
    "        _renders.append(env.render(mode=\"rgb_array\"))\n",
    "    renders[env_cls.__name__] = _renders\n",
    "    states[env_cls.__name__] = np.array(_states)\n",
    "\n",
    "\n"
   ],
   "metadata": {
    "collapsed": false,
    "pycharm": {
     "name": "#%%\n"
    }
   }
  },
  {
   "cell_type": "code",
   "execution_count": null,
   "outputs": [],
   "source": [
    "import matplotlib.pyplot as plt\n",
    "n_ax = len(renders)\n",
    "fig = plt.figure(figsize=(4,4), dpi=250)\n",
    "axes = fig.subplots(nrows=n_ax, ncols=1)\n",
    "for i, (env_name, _renders) in enumerate(renders.items()):\n",
    "    ax = axes[i]\n",
    "    _renders = np.array(_renders)\n",
    "    render = np.mean(_renders, axis=0)/255\n",
    "    print(np.amin(render), np.amax(render))\n",
    "    print(render.shape)\n",
    "    ax.imshow(render)\n",
    "    ax.axis('off')\n",
    "\n",
    "fig.set_tight_layout(True)\n",
    "plt.show()\n",
    "\n"
   ],
   "metadata": {
    "collapsed": false,
    "pycharm": {
     "name": "#%%\n"
    }
   }
  },
  {
   "cell_type": "code",
   "execution_count": null,
   "metadata": {
    "collapsed": false,
    "jupyter": {
     "outputs_hidden": false
    },
    "pycharm": {
     "name": "#%%\n"
    }
   },
   "outputs": [],
   "source": [
    "for i in range(states.shape[1]):  # nstates\n",
    "    plt.hist(states[:, i], bins=100)\n",
    "    plt.show()"
   ]
  }
 ],
 "metadata": {
  "kernelspec": {
   "display_name": "Python 3 (ipykernel)",
   "language": "python",
   "name": "python3"
  },
  "language_info": {
   "codemirror_mode": {
    "name": "ipython",
    "version": 3
   },
   "file_extension": ".py",
   "mimetype": "text/x-python",
   "name": "python",
   "nbconvert_exporter": "python",
   "pygments_lexer": "ipython3",
   "version": "3.9.7"
  }
 },
 "nbformat": 4,
 "nbformat_minor": 4
}